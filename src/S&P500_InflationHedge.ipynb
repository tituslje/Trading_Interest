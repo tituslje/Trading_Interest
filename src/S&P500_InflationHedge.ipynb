{
 "cells": [
  {
   "cell_type": "markdown",
   "metadata": {},
   "source": [
    "## Import all relevant libraries"
   ]
  },
  {
   "cell_type": "code",
   "execution_count": null,
   "metadata": {},
   "outputs": [],
   "source": [
    "import pandas as pd\n",
    "import numpy as np\n",
    "import matplotlib.pyplot as plt\n",
    "import seaborn as sb"
   ]
  },
  {
   "cell_type": "code",
   "execution_count": null,
   "metadata": {},
   "outputs": [],
   "source": [
    "macro_master = pd.read_excel('Data_180724.xlsx', 'Macro')\n",
    "price_master = pd.read_excel('Data_180724.xlsx','Prices')\n",
    "treasuries_master = pd.read_excel('Data_180724.xlsx', 'Yield')\n",
    "VIX_master = pd.read_excel('VIXCLS.xlsx','INDEX')"
   ]
  },
  {
   "cell_type": "code",
   "execution_count": null,
   "metadata": {},
   "outputs": [],
   "source": [
    "macro_master.info()\n",
    "price_master.info()\n",
    "treasuries_master.info()\n",
    "VIX_master.info()"
   ]
  },
  {
   "cell_type": "markdown",
   "metadata": {},
   "source": [
    "### Data Visualisation to formulate regimes & technical strategy"
   ]
  },
  {
   "cell_type": "code",
   "execution_count": null,
   "metadata": {},
   "outputs": [],
   "source": [
    "#f, axes = plt.subplots(nrows=1,ncols=2,figsize = (30,10))\n",
    "f = plt.figure(figsize=(30,10))\n",
    "\n",
    "#sb.lineplot(data = macro_master,x = macro_master['Date'],y = macro_master['REAL GDP YOY'], ax = axes[0])\n",
    "sb.lineplot(data = macro_master,x = macro_master['Date'],y = macro_master['CPI YOY'])"
   ]
  },
  {
   "cell_type": "markdown",
   "metadata": {},
   "source": [
    "##### Refer to notepad for breakdown of CPI and Real GDP analysis (Regime indicator: CPI)"
   ]
  },
  {
   "cell_type": "code",
   "execution_count": null,
   "metadata": {},
   "outputs": [],
   "source": [
    "f = plt.figure(figsize=(30,10))\n",
    "\n",
    "# Filter data for the desired time range (1970-1990)\n",
    "#prices_filtered = price_master[(price_master['Date'] >= '1970-12-31') & (price_master['Date'] <= '1990-12-31')]\n",
    "\n",
    "sb.lineplot(data = price_master,x = 'Date',y = 'INFLATION-ADJUSTED S&P 500')"
   ]
  },
  {
   "cell_type": "code",
   "execution_count": null,
   "metadata": {},
   "outputs": [],
   "source": [
    "f1, axes1 = plt.subplots(nrows=1,ncols=3, figsize=(30,10))\n",
    "\n",
    "i = 0\n",
    "for item in ['Gold','USD Index Spot Rate','US 10YR Bonds']:\n",
    "    if item == 'US 10YR Bonds':\n",
    "        sb.lineplot(data = treasuries_master,x = 'Date', y = item,ax = axes1[i])\n",
    "    else:\n",
    "        sb.lineplot(data = price_master, x = 'Date', y = item,ax = axes1[i])\n",
    "    i += 1"
   ]
  },
  {
   "cell_type": "markdown",
   "metadata": {},
   "source": [
    "#### Long timeframe makes it difficult to identify opportunities. Sample time periods will be plotted to illustrate each strategy's methodology."
   ]
  },
  {
   "cell_type": "markdown",
   "metadata": {},
   "source": [
    "## Strategies Illustration"
   ]
  },
  {
   "cell_type": "markdown",
   "metadata": {},
   "source": [
    "#### Based on notepad, 4 regimes are identified:\n",
    "1. Overheating and Rising: CPI > 5% and increasing for >3 1M-periods\n",
    "2. Overheating but Cooling: CPI > 5% and decreasing for >3 1M-periods\n",
    "3. High and Rising: 3% < CPI < 5% sustained for >3 1M-periods \n",
    "4. Stablising: CPI trending between 1-3% for >3 consecutive periods\n",
    "4. Cooling: CPI is trending below 1% (including below 0%)\n",
    "\n",
    "Justification for cut-off values are previously covered.\n",
    "\n",
    "CPI is a lagging indicator of economic growth. As CPI increases, financing costs increases eroding profits, reducing stock prices.\n",
    "Monetary policy tightening is data-driven, hence stock price decline should follow after increasing (or high) CPI values. Vice versa for decreasing CPI.\n",
    "\n",
    "CPI increase should increase risk premium as consumers and businesses flock to low-risk, store-of-value assets to avoid savings value erosion. This in turn increases market volatility in the stock market. Thus have to be more careful in volatile, high CPI periods."
   ]
  },
  {
   "cell_type": "markdown",
   "metadata": {},
   "source": [
    "#### How the strategy works for each regime:\n",
    "1. Identify relationship between CPI and S&P500 index (or stock prices in general).\n",
    "2. Identify macro indicator correlation with S&P500 index and hedging instruments.\n",
    "3. Identify technical indicators entry and exit signals for S&P500 index, taking into account macro indicator position.\n",
    "4. Select hedging instrument(s) and identify technical indicators for entry and exit signals.\n",
    "4. Determine asset allocation for a particular regime (heavier on equity and less on cash for lower CPI regions, and vice versa.)"
   ]
  },
  {
   "cell_type": "markdown",
   "metadata": {},
   "source": [
    "#### Strategy for overheating and rising CPI"
   ]
  },
  {
   "cell_type": "code",
   "execution_count": null,
   "metadata": {},
   "outputs": [],
   "source": [
    "f, axes2 = plt.subplots(4,1,figsize=(30,20))\n",
    "\n",
    "macro1_filtered = macro_master[(macro_master['Date'] >= '2000-01-01') & (macro_master['Date'] <= '2007-12-31')]\n",
    "prices1_filtered = price_master[(price_master['Date'] >= '2000-01-01') & (price_master['Date'] <= '2007-12-31')]\n",
    "treasuries1_filtered = treasuries_master[(treasuries_master['Date'] >= '2000-01-01') & (treasuries_master['Date'] <= '2007-12-31')]\n",
    "\n",
    "ma_window = 10\n",
    "\n",
    "sb.lineplot(data = macro1_filtered,x = 'Date',y = 'CPI YOY',ax = axes2[0])\n",
    "sb.lineplot(data = prices1_filtered,x = 'Date',y = 'INFLATION-ADJUSTED S&P 500',ax = axes2[1])\n",
    "sb.lineplot(data = prices1_filtered,x = 'Date',y = prices1_filtered['INFLATION-ADJUSTED S&P 500'].rolling(window=ma_window).mean(),ax = axes2[1])\n",
    "sb.lineplot(data = prices1_filtered,x = 'Date',y = 'Gold',ax = axes2[2])\n",
    "sb.lineplot(data = prices1_filtered,x = 'Date',y = prices1_filtered['Gold'].rolling(window=ma_window).mean(),ax = axes2[2])\n",
    "sb.lineplot(data = prices1_filtered,x = 'Date',y = 'USD Index Spot Rate',ax = axes2[3])\n",
    "sb.lineplot(data = prices1_filtered,x = 'Date',y = prices1_filtered['USD Index Spot Rate'].rolling(window=ma_window).mean(),ax = axes2[3])"
   ]
  },
  {
   "cell_type": "markdown",
   "metadata": {},
   "source": [
    "#### Attempted Back-testing Algorithm"
   ]
  },
  {
   "cell_type": "code",
   "execution_count": null,
   "metadata": {},
   "outputs": [],
   "source": [
    "prices_trading = price_master.copy()\n",
    "prices_trading['10d-MA-S&P500'] = prices_trading['INFLATION-ADJUSTED S&P 500'].rolling(window=10).mean()\n",
    "prices_trading['10d-MA-Gold'] = prices_trading['Gold'].rolling(window=10).mean()\n",
    "prices_trading['10d-MA-USD Index'] = prices_trading['USD Index Spot Rate'].rolling(window=10).mean()\n",
    "prices_trading['13d-MA-S&P500'] = prices_trading['INFLATION-ADJUSTED S&P 500'].rolling(window=13).mean()\n",
    "prices_trading['13d-MA-Gold'] = prices_trading['Gold'].rolling(window=13).mean()\n",
    "prices_trading['13d-MA-USD Index'] = prices_trading['USD Index Spot Rate'].rolling(window=13).mean()"
   ]
  },
  {
   "cell_type": "code",
   "execution_count": null,
   "metadata": {},
   "outputs": [],
   "source": [
    "macro_trading = macro_master.copy()\n",
    "macro_trading.drop(['REAL GDP YOY'],axis=1)"
   ]
  },
  {
   "cell_type": "code",
   "execution_count": null,
   "metadata": {},
   "outputs": [],
   "source": [
    "# Calculate additional required columns\n",
    "macro_trading['CPI_Change_3M'] = macro_trading['CPI YOY'].diff(3)\n",
    "prices_trading['Gold_Change_3M'] = prices_trading['Gold'].diff(3)\n",
    "prices_trading['USD_Change_3M'] = prices_trading['USD Index Spot Rate'].diff(3)"
   ]
  },
  {
   "cell_type": "code",
   "execution_count": null,
   "metadata": {},
   "outputs": [],
   "source": [
    "#Signal Generation \n",
    "prices_trading['S&P500-Entry-Signal'] = (prices_trading['INFLATION-ADJUSTED S&P 500'] > prices_trading['10d-MA-S&P500'])\n",
    "prices_trading['S&P500-Exit-Signal'] = (prices_trading['INFLATION-ADJUSTED S&P 500'] < prices_trading['13d-MA-S&P500'])\n",
    "\n",
    "prices_trading['Gold_Buy_Signal'] = ((prices_trading['Gold_Change_3M'] < 0) & (prices_trading['Gold'].diff() > 0) & (prices_trading['Gold'] > prices_trading['10d-MA-Gold']))\n",
    "prices_trading['Gold_Sell_Signal'] = ((prices_trading['Gold_Change_3M'] > 0) & (prices_trading['Gold'].diff() < 0) & (prices_trading['Gold'] > prices_trading['13d-MA-Gold']))\n",
    "\n",
    "prices_trading['USD_Buy_Signal'] = ((prices_trading['USD_Change_3M'] < 0) & (prices_trading['USD Index Spot Rate'].diff() > 0) & (prices_trading['USD Index Spot Rate'] > prices_trading['10d-MA-Gold']))\n",
    "prices_trading['USD_Sell_Signal'] = ((prices_trading['USD_Change_3M'] > 0) & (prices_trading['USD Index Spot Rate'].diff() < 0) & (prices_trading['USD Index Spot Rate'] > prices_trading['13d-MA-Gold']))"
   ]
  },
  {
   "cell_type": "code",
   "execution_count": null,
   "metadata": {},
   "outputs": [],
   "source": [
    "#Initialize positions\n",
    "prices_trading['S&P500_Position'] = 0\n",
    "prices_trading['Gold_Position'] = 0\n",
    "prices_trading['USD_Position'] = 0"
   ]
  },
  {
   "cell_type": "code",
   "execution_count": null,
   "metadata": {},
   "outputs": [],
   "source": [
    "# Backtesting\n",
    "for i in range(1, len(prices_trading)):\n",
    "    if macro_trading['CPI YOY'][i] > 5 and macro_trading['CPI_Change_3M'][i] > 0:\n",
    "        # Entry rules\n",
    "        if data['SP500_Entry_Signal'][i]:\n",
    "            data.at[i, 'SP500_Position'] = 1\n",
    "            if data['Gold_Buy_Signal'][i]:\n",
    "                data.at[i, 'Gold_Position'] = 1\n",
    "            if data['USD_Buy_Signal'][i]:\n",
    "                data.at[i, 'USD_Position'] = 1\n",
    "        # Exit rules\n",
    "        if data['SP500_Exit_Signal'][i]:\n",
    "            data.at[i, 'SP500_Position'] = 0\n",
    "            if data['Gold_Sell_Signal'][i]:\n",
    "                data.at[i, 'Gold_Position'] = 0\n",
    "            if data['USD_Sell_Signal'][i]:\n",
    "                data.at[i, 'USD_Position'] = 0"
   ]
  }
 ],
 "metadata": {
  "kernelspec": {
   "display_name": ".venv",
   "language": "python",
   "name": "python3"
  },
  "language_info": {
   "codemirror_mode": {
    "name": "ipython",
    "version": 3
   },
   "file_extension": ".py",
   "mimetype": "text/x-python",
   "name": "python",
   "nbconvert_exporter": "python",
   "pygments_lexer": "ipython3",
   "version": "3.11.4"
  }
 },
 "nbformat": 4,
 "nbformat_minor": 2
}
