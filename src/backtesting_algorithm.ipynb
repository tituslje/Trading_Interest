{
 "cells": [
  {
   "cell_type": "code",
   "execution_count": null,
   "metadata": {},
   "outputs": [],
   "source": [
    "import pandas as pd\n",
    "import numpy as np\n",
    "import matplotlib.pyplot as plt\n",
    "import seaborn as sb"
   ]
  },
  {
   "cell_type": "code",
   "execution_count": null,
   "metadata": {},
   "outputs": [],
   "source": [
    "macro_master = pd.read_excel('Data_180724.xlsx', 'Macro',parse_dates=['Date'],index_col='Date')\n",
    "price_master = pd.read_excel('Data_180724.xlsx','Prices',parse_dates=['Date'],index_col='Date')\n",
    "treasuries_master = pd.read_excel('Data_180724.xlsx', 'Yield',parse_dates=['Date'],index_col='Date')"
   ]
  },
  {
   "cell_type": "code",
   "execution_count": null,
   "metadata": {},
   "outputs": [],
   "source": [
    "# Resample CPI data to daily frequency by forward-filling\n",
    "macro_trading = macro_master.copy()\n",
    "macro_trading = macro_trading.resample('D').ffill()\n",
    "macro_trading['CPI_Change_3M'] = macro_trading['CPI YOY'].diff(90)"
   ]
  },
  {
   "cell_type": "code",
   "execution_count": null,
   "metadata": {},
   "outputs": [],
   "source": [
    "macro_trading.head(5)"
   ]
  },
  {
   "cell_type": "code",
   "execution_count": null,
   "metadata": {},
   "outputs": [],
   "source": [
    "prices_trading = price_master.copy()\n",
    "prices_trading = prices_trading.join(macro_trading[['CPI YOY','CPI_Change_3M']],how='left')"
   ]
  },
  {
   "cell_type": "code",
   "execution_count": null,
   "metadata": {},
   "outputs": [],
   "source": [
    "prices_trading.head(5)"
   ]
  },
  {
   "cell_type": "code",
   "execution_count": null,
   "metadata": {},
   "outputs": [],
   "source": [
    "prices_trading['10d-MA-S&P500'] = prices_trading['INFLATION-ADJUSTED S&P 500'].rolling(window=10).mean()\n",
    "prices_trading['10d-MA-Gold'] = prices_trading['Gold'].rolling(window=10).mean()\n",
    "prices_trading['10d-MA-USD Index'] = prices_trading['USD Index Spot Rate'].rolling(window=10).mean()\n",
    "prices_trading['13d-MA-S&P500'] = prices_trading['INFLATION-ADJUSTED S&P 500'].rolling(window=13).mean()\n",
    "prices_trading['13d-MA-Gold'] = prices_trading['Gold'].rolling(window=13).mean()\n",
    "prices_trading['13d-MA-USD Index'] = prices_trading['USD Index Spot Rate'].rolling(window=13).mean()\n",
    "prices_trading['Gold_Change_3M'] = prices_trading['Gold'].diff(3)\n",
    "prices_trading['USD_Change_3M'] = prices_trading['USD Index Spot Rate'].diff(3)"
   ]
  },
  {
   "cell_type": "code",
   "execution_count": null,
   "metadata": {},
   "outputs": [],
   "source": [
    "#Signal Generation \n",
    "prices_trading['S&P500-Entry-Signal'] = (prices_trading['INFLATION-ADJUSTED S&P 500'] > prices_trading['10d-MA-S&P500'])\n",
    "prices_trading['S&P500-Exit-Signal'] = (prices_trading['INFLATION-ADJUSTED S&P 500'] < prices_trading['13d-MA-S&P500'])\n",
    "\n",
    "prices_trading['Gold_Buy_Signal'] = ((prices_trading['Gold_Change_3M'] < 0) & (prices_trading['Gold'].diff() > 0) & (prices_trading['Gold'] > prices_trading['10d-MA-Gold']))\n",
    "prices_trading['Gold_Sell_Signal'] = ((prices_trading['Gold_Change_3M'] > 0) & (prices_trading['Gold'].diff() < 0) & (prices_trading['Gold'] > prices_trading['13d-MA-Gold']))\n",
    "\n",
    "prices_trading['USD_Buy_Signal'] = ((prices_trading['USD_Change_3M'] < 0) & (prices_trading['USD Index Spot Rate'].diff() > 0) & (prices_trading['USD Index Spot Rate'] > prices_trading['10d-MA-Gold']))\n",
    "prices_trading['USD_Sell_Signal'] = ((prices_trading['USD_Change_3M'] > 0) & (prices_trading['USD Index Spot Rate'].diff() < 0) & (prices_trading['USD Index Spot Rate'] > prices_trading['13d-MA-Gold']))"
   ]
  },
  {
   "cell_type": "code",
   "execution_count": null,
   "metadata": {},
   "outputs": [],
   "source": [
    "# Initialize positions and portfolio variables\n",
    "initial_capital = 1000000\n",
    "prices_trading['Cash'] = initial_capital\n",
    "prices_trading['S&P500_Position'] = 0\n",
    "prices_trading['Gold_Position'] = 0\n",
    "prices_trading['USD_Position'] = 0\n",
    "\n",
    "prices_trading['S&P500_Holdings'] = 0\n",
    "prices_trading['Gold_Holdings'] = 0\n",
    "prices_trading['USD_Holdings'] = 0\n",
    "\n",
    "# Allocations\n",
    "allocations = {'S&P500': 0.30, 'Gold': 0.35, 'USD': 0.35}\n",
    "\n",
    "#P&L tracker\n",
    "prices_trading['S&P500_Buy_Price'] = 0\n",
    "prices_trading['Gold_Buy_Price'] = 0\n",
    "prices_trading['USD_Buy_Price'] = 0\n",
    "\n",
    "prices_trading['Profit_Loss'] = 0\n",
    "prices_trading['Cumulative_Profit_Loss'] = 0"
   ]
  },
  {
   "cell_type": "code",
   "execution_count": null,
   "metadata": {},
   "outputs": [],
   "source": [
    "# Backtesting\n",
    "for i in range(1, len(prices_trading)):\n",
    "    if 1< prices_trading.iloc[i]['CPI YOY'] < 3 and 1 < prices_trading.iloc[i+1]['CPI YOY'] < 3 and 1 < prices_trading.iloc[i+2]['CPI YOY'] < 3:\n",
    "        # Entry rules\n",
    "        if prices_trading.iloc[i]['S&P500-Entry-Signal']:\n",
    "            max_allocation_sp500 = allocations['S&P500'] * prices_trading.iloc[i]['Portfolio_Value']\n",
    "            units_to_buy = max_allocation_sp500 // prices_trading.iloc[i]['INFLATION-ADJUSTED S&P 500']\n",
    "            cost = units_to_buy * prices_trading.iloc[i]['INFLATION-ADJUSTED S&P 500']\n",
    "            prices_trading.at[prices_trading.index[i], 'S&P500_Position'] = units_to_buy\n",
    "            prices_trading.at[prices_trading.index[i], 'Cash'] -= cost\n",
    "            prices_trading.at[prices_trading.index[i], 'S&P500_Buy_Price'] = prices_trading.iloc[i]['INFLATION-ADJUSTED S&P 500']\n",
    "            \n",
    "            if prices_trading.iloc[i]['Gold_Buy_Signal']:\n",
    "                max_allocation_gold = allocations['Gold'] * prices_trading.iloc[i]['Portfolio_Value']\n",
    "                units_to_buy = max_allocation_gold // prices_trading.iloc[i]['Gold']\n",
    "                cost = units_to_buy * prices_trading.iloc[i]['Gold']\n",
    "                prices_trading.at[prices_trading.index[i], 'Gold_Position'] = units_to_buy\n",
    "                prices_trading.at[prices_trading.index[i], 'Cash'] -= cost\n",
    "                prices_trading.at[prices_trading.index[i], 'Gold_Buy_Price'] = prices_trading.iloc[i]['Gold']\n",
    "            \n",
    "            if prices_trading.iloc[i]['USD_Buy_Signal']:\n",
    "                max_allocation_usd = allocations['USD'] * prices_trading.iloc[i]['Portfolio_Value']\n",
    "                units_to_buy = max_allocation_usd // prices_trading.iloc[i]['USD Index Spot Rate']\n",
    "                cost = units_to_buy * prices_trading.iloc[i]['USD Index Spot Rate']\n",
    "                prices_trading.at[prices_trading.index[i], 'USD_Position'] = units_to_buy\n",
    "                prices_trading.at[prices_trading.index[i], 'Cash'] -= cost\n",
    "                prices_trading.at[prices_trading.index[i], 'USD_Buy_Price'] = prices_trading.iloc[i]['USD Index Spot Rate']\n",
    "                \n",
    "        # Exit rules\n",
    "        if prices_trading.iloc[i]['S&P500-Exit-Signal']:\n",
    "            sell_value = prices_trading.iloc[i]['S&P500_Position'] * prices_trading.iloc[i]['INFLATION-ADJUSTED S&P 500']\n",
    "            profit_loss = sell_value - (prices_trading.iloc[i]['S&P500_Position'] * prices_trading.iloc[i]['S&P500_Buy_Price'])\n",
    "            prices_trading.at[prices_trading.index[i], 'Cash'] += sell_value\n",
    "            prices_trading.at[prices_trading.index[i], 'Profit_Loss'] = profit_loss\n",
    "            prices_trading.at[prices_trading.index[i], 'S&P500_Position'] = 0\n",
    "            \n",
    "            if prices_trading.iloc[i]['Gold_Sell_Signal']:\n",
    "                sell_value = prices_trading.iloc[i]['Gold_Position'] * prices_trading.iloc[i]['Gold']\n",
    "                profit_loss = sell_value - (prices_trading.iloc[i]['Gold_Position'] * prices_trading.iloc[i]['Gold_Buy_Price'])\n",
    "                prices_trading.at[prices_trading.index[i], 'Cash'] += sell_value\n",
    "                prices_trading.at[prices_trading.index[i], 'Profit_Loss'] += profit_loss\n",
    "                prices_trading.at[prices_trading.index[i], 'Gold_Position'] = 0\n",
    "                \n",
    "            if prices_trading.iloc[i]['USD_Sell_Signal']:\n",
    "                sell_value = prices_trading.iloc[i]['USD_Position'] * prices_trading.iloc[i]['USD Index Spot Rate']\n",
    "                profit_loss = sell_value - (prices_trading.iloc[i]['USD_Position'] * prices_trading.iloc[i]['USD_Buy_Price'])\n",
    "                prices_trading.at[prices_trading.index[i], 'Cash'] += sell_value\n",
    "                prices_trading.at[prices_trading.index[i], 'Profit_Loss'] += profit_loss\n",
    "                prices_trading.at[prices_trading.index[i], 'USD_Position'] = 0\n",
    "                \n",
    "    # Update holdings\n",
    "    prices_trading.at[prices_trading.index[i], 'S&P500_Holdings'] = prices_trading.iloc[i]['S&P500_Position'] * prices_trading.iloc[i]['INFLATION-ADJUSTED S&P 500']\n",
    "    prices_trading.at[prices_trading.index[i], 'Gold_Holdings'] = prices_trading.iloc[i]['Gold_Position'] * prices_trading.iloc[i]['Gold']\n",
    "    prices_trading.at[prices_trading.index[i], 'USD_Holdings'] = prices_trading.iloc[i]['USD_Position'] * prices_trading.iloc[i]['USD Index Spot Rate']\n",
    "    \n",
    "    # Update portfolio value\n",
    "    prices_trading.at[prices_trading.index[i], 'Portfolio_Value'] = prices_trading.iloc[i]['Cash'] + prices_trading.iloc[i]['S&P500_Holdings'] + prices_trading.iloc[i]['Gold_Holdings'] + prices_trading.iloc[i]['USD_Holdings']\n",
    "    \n",
    "    # Update cumulative profit/loss\n",
    "    if i > 1:\n",
    "        prices_trading.at[prices_trading.index[i], 'Cumulative_Profit_Loss'] = prices_trading.iloc[i-1]['Cumulative_Profit_Loss'] + prices_trading.iloc[i]['Profit_Loss']"
   ]
  },
  {
   "cell_type": "code",
   "execution_count": null,
   "metadata": {},
   "outputs": [],
   "source": [
    "prices_trading[['Cumulative_Profit_Loss','Portfolio_Value']]"
   ]
  }
 ],
 "metadata": {
  "kernelspec": {
   "display_name": ".venv",
   "language": "python",
   "name": "python3"
  },
  "language_info": {
   "codemirror_mode": {
    "name": "ipython",
    "version": 3
   },
   "file_extension": ".py",
   "mimetype": "text/x-python",
   "name": "python",
   "nbconvert_exporter": "python",
   "pygments_lexer": "ipython3",
   "version": "3.11.4"
  }
 },
 "nbformat": 4,
 "nbformat_minor": 2
}
